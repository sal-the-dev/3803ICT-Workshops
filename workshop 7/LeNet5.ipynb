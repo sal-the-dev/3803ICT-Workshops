{
  "cells": [
    {
      "cell_type": "markdown",
      "metadata": {
        "id": "EDbJWoO1yO8e"
      },
      "source": [
        "# Image Classification with CNN - LeNet5 architecture"
      ]
    },
    {
      "cell_type": "markdown",
      "metadata": {
        "id": "JzQxqD6HyO8i"
      },
      "source": [
        "In this exercise, we will apply the LeNet5 algorithm to the Fashion MNIST dataset and improve your performances."
      ]
    },
    {
      "cell_type": "markdown",
      "metadata": {
        "id": "XFyVotRvyO8j"
      },
      "source": [
        "We will first download the data:"
      ]
    },
    {
      "cell_type": "code",
      "execution_count": 1,
      "metadata": {
        "colab": {
          "base_uri": "https://localhost:8080/"
        },
        "id": "RTHLyL1fyO8j",
        "outputId": "07c533df-a1c6-442b-f3ca-12201f982026",
        "scrolled": true
      },
      "outputs": [
        {
          "output_type": "stream",
          "name": "stdout",
          "text": [
            "Downloading data from https://storage.googleapis.com/tensorflow/tf-keras-datasets/train-labels-idx1-ubyte.gz\n",
            "29515/29515 [==============================] - 0s 0us/step\n",
            "Downloading data from https://storage.googleapis.com/tensorflow/tf-keras-datasets/train-images-idx3-ubyte.gz\n",
            "26421880/26421880 [==============================] - 0s 0us/step\n",
            "Downloading data from https://storage.googleapis.com/tensorflow/tf-keras-datasets/t10k-labels-idx1-ubyte.gz\n",
            "5148/5148 [==============================] - 0s 0us/step\n",
            "Downloading data from https://storage.googleapis.com/tensorflow/tf-keras-datasets/t10k-images-idx3-ubyte.gz\n",
            "4422102/4422102 [==============================] - 0s 0us/step\n"
          ]
        },
        {
          "output_type": "execute_result",
          "data": {
            "text/plain": [
              "(60000, 28, 28)"
            ]
          },
          "metadata": {},
          "execution_count": 1
        }
      ],
      "source": [
        "# TODO: Load the dataset\n",
        "from tensorflow.keras.datasets import fashion_mnist\n",
        "\n",
        "(X_train, y_train), (X_test, y_test) = fashion_mnist.load_data()\n",
        "\n",
        "# # # If your computer is slow, try to use a subset of data, e.g.\n",
        "# X_train = X_train[:10000]\n",
        "# y_train = y_train[:10000]\n",
        "# X_test = X_test[:2000]\n",
        "# y_test = y_test[:2000]\n",
        "X_train.shape"
      ]
    },
    {
      "cell_type": "markdown",
      "metadata": {
        "id": "c8ShXIANyO8l"
      },
      "source": [
        "As you already know, this dataset contains 10 classes:\n",
        "* 0:\tT-shirt/top\n",
        "* 1:\tTrouser\n",
        "* 2:\tPullover\n",
        "* 3:\tDress\n",
        "* 4:\tCoat\n",
        "* 5:\tSandal\n",
        "* 6:\tShirt\n",
        "* 7:\tSneaker\n",
        "* 8:\tBag\n",
        "* 9:\tAnkle boot"
      ]
    },
    {
      "cell_type": "markdown",
      "metadata": {
        "id": "_BvNG0PbyO8l"
      },
      "source": [
        "You can have a look at some images if needed, even if you already know them."
      ]
    },
    {
      "cell_type": "code",
      "execution_count": 2,
      "metadata": {
        "colab": {
          "base_uri": "https://localhost:8080/",
          "height": 452
        },
        "id": "lnjqgv-GyO8m",
        "outputId": "7a54b53c-836a-4a00-a90e-bfd792461da4",
        "scrolled": true
      },
      "outputs": [
        {
          "output_type": "display_data",
          "data": {
            "text/plain": [
              "<Figure size 640x480 with 1 Axes>"
            ],
            "image/png": "[encoded data removed]"
          },
          "metadata": {}
        }
      ],
      "source": [
        "# TODO: Explore the data, display some input images\n",
        "%matplotlib inline\n",
        "import matplotlib.pyplot as plt\n",
        "import numpy as np\n",
        "\n",
        "label_class = ['top', 'trouser', 'pullover', 'dress', 'coat', 'sandal', 'shirt', 'sneaker', 'bag', 'ankle boot']\n",
        "\n",
        "idx = np.random.randint(X_train.shape[0])\n",
        "\n",
        "plt.imshow(X_train[idx], cmap=\"gray_r\")\n",
        "plt.title(label_class[y_train[idx]])\n",
        "plt.show()"
      ]
    },
    {
      "cell_type": "markdown",
      "metadata": {
        "id": "AdYH6XW1yO8n"
      },
      "source": [
        "Make the data preparation and preprocessing: scale and reshape the data, put the labels to the good shape."
      ]
    },
    {
      "cell_type": "code",
      "execution_count": 5,
      "metadata": {
        "id": "fjv8XMPByO8o",
        "colab": {
          "base_uri": "https://localhost:8080/"
        },
        "outputId": "39dacaca-fceb-4b7f-efba-36ad1ed649b0"
      },
      "outputs": [
        {
          "output_type": "execute_result",
          "data": {
            "text/plain": [
              "(60000, 28, 28, 1)"
            ]
          },
          "metadata": {},
          "execution_count": 5
        }
      ],
      "source": [
        "# TODO: Make the data preparation\n",
        "from tensorflow.keras.utils import to_categorical\n",
        "\n",
        "y_train_cat = to_categorical(y_train, num_classes=len(label_class))\n",
        "y_test_cat = to_categorical(y_test, num_classes=len(label_class))\n",
        "\n",
        "X_train_norm = X_train / 255\n",
        "X_test_norm = X_test / 255\n",
        "\n",
        "\n",
        "X_train_norm = X_train_norm.reshape(X_train_norm.shape[0], 28, 28, 1)\n",
        "X_test_norm = X_test_norm.reshape(X_test_norm.shape[0], 28, 28, 1)\n",
        "\n",
        "X_train_norm.shape #Should be (60000, 28, 28, 1)"
      ]
    },
    {
      "cell_type": "markdown",
      "metadata": {
        "id": "y9LKzxR9yO8o"
      },
      "source": [
        "Now build the LeNet5 architecture. You can reuse the one of the course, or try to build it by yourself.\n",
        "\n",
        "The architecture is the following:\n",
        "\n",
        "<p align=\"center\">\n",
        "<img src=\"https://drive.google.com/uc?export=view&id=1WteTU2FPIVMkBKmMxGpFm5OjsX-szTbB\">\n",
        "</p>"
      ]
    },
    {
      "cell_type": "code",
      "execution_count": 6,
      "metadata": {
        "id": "GKyMFlL6yO8o",
        "colab": {
          "base_uri": "https://localhost:8080/"
        },
        "outputId": "d82d35fc-75a5-43fd-d419-66eb6ea554c4"
      },
      "outputs": [
        {
          "output_type": "stream",
          "name": "stdout",
          "text": [
            "Model: \"sequential\"\n",
            "_________________________________________________________________\n",
            " Layer (type)                Output Shape              Param #   \n",
            "=================================================================\n",
            " C1 (Conv2D)                 (None, 26, 26, 6)         60        \n",
            "                                                                 \n",
            " S2 (MaxPooling2D)           (None, 13, 13, 6)         0         \n",
            "                                                                 \n",
            " C3 (Conv2D)                 (None, 11, 11, 16)        880       \n",
            "                                                                 \n",
            " S4 (MaxPooling2D)           (None, 5, 5, 16)          0         \n",
            "                                                                 \n",
            " flatten (Flatten)           (None, 400)               0         \n",
            "                                                                 \n",
            " C5 (Dense)                  (None, 120)               48120     \n",
            "                                                                 \n",
            " F6 (Dense)                  (None, 84)                10164     \n",
            "                                                                 \n",
            " dense (Dense)               (None, 10)                850       \n",
            "                                                                 \n",
            "=================================================================\n",
            "Total params: 60,074\n",
            "Trainable params: 60,074\n",
            "Non-trainable params: 0\n",
            "_________________________________________________________________\n"
          ]
        }
      ],
      "source": [
        "# TODO: Build your model\n",
        "from tensorflow.keras.models import Sequential\n",
        "from tensorflow.keras.layers import MaxPooling2D, Conv2D, Flatten, Dense\n",
        "\n",
        "\n",
        "def lenet5():\n",
        "    \n",
        "    model = Sequential()\n",
        "\n",
        "    # Layer C1\n",
        "    model.add(Conv2D(filters=6, name='C1', kernel_size=(3, 3), activation='relu', input_shape=(28,28,1)))\n",
        "    # Layer S2\n",
        "    model.add(MaxPooling2D(pool_size=(2, 2), name='S2'))\n",
        "    # Layer C3\n",
        "    model.add(Conv2D(filters=16, name='C3', kernel_size=(3, 3), activation='relu'))\n",
        "    # Layer S4\n",
        "    model.add(MaxPooling2D(pool_size=(2, 2), name='S4'))\n",
        "    # Before going into layer C5, we flatten our units\n",
        "    model.add(Flatten())\n",
        "    # Layer C5\n",
        "    model.add(Dense(120, activation=\"relu\", name=\"C5\"))\n",
        "    # Layer F6\n",
        "    model.add(Dense(84, activation=\"relu\", name=\"F6\"))\n",
        "    # Output layer\n",
        "    model.add(Dense(units=10, activation = 'softmax'))\n",
        "    \n",
        "    return model\n",
        "\n",
        "lenet5().summary()"
      ]
    },
    {
      "cell_type": "markdown",
      "metadata": {
        "id": "i1qBEauqyO8p"
      },
      "source": [
        "Now compile and fit your model on your training data. Since this is a multiclass classification, the loss is not `binary_crossentropy` anymore, but `categorical_crossentropy`."
      ]
    },
    {
      "cell_type": "code",
      "execution_count": 7,
      "metadata": {
        "colab": {
          "base_uri": "https://localhost:8080/"
        },
        "id": "nPL3aKnyyO8p",
        "outputId": "b264cf8c-f766-4887-acec-30222f7e1e30",
        "scrolled": true
      },
      "outputs": [
        {
          "output_type": "stream",
          "name": "stdout",
          "text": [
            "Epoch 1/100\n",
            "30/30 [==============================] - 12s 31ms/step - loss: 1.8013 - accuracy: 0.4353 - val_loss: 1.0389 - val_accuracy: 0.6600\n",
            "Epoch 2/100\n",
            "30/30 [==============================] - 0s 13ms/step - loss: 0.8243 - accuracy: 0.7024 - val_loss: 0.7132 - val_accuracy: 0.7350\n",
            "Epoch 3/100\n",
            "30/30 [==============================] - 0s 12ms/step - loss: 0.6496 - accuracy: 0.7569 - val_loss: 0.6326 - val_accuracy: 0.7599\n",
            "Epoch 4/100\n",
            "30/30 [==============================] - 0s 12ms/step - loss: 0.5814 - accuracy: 0.7808 - val_loss: 0.5780 - val_accuracy: 0.7831\n",
            "Epoch 5/100\n",
            "30/30 [==============================] - 0s 12ms/step - loss: 0.5338 - accuracy: 0.8007 - val_loss: 0.5395 - val_accuracy: 0.7953\n",
            "Epoch 6/100\n",
            "30/30 [==============================] - 0s 13ms/step - loss: 0.5051 - accuracy: 0.8133 - val_loss: 0.5195 - val_accuracy: 0.8118\n",
            "Epoch 7/100\n",
            "30/30 [==============================] - 0s 13ms/step - loss: 0.4811 - accuracy: 0.8232 - val_loss: 0.5006 - val_accuracy: 0.8191\n",
            "Epoch 8/100\n",
            "30/30 [==============================] - 0s 13ms/step - loss: 0.4583 - accuracy: 0.8347 - val_loss: 0.4757 - val_accuracy: 0.8273\n",
            "Epoch 9/100\n",
            "30/30 [==============================] - 0s 13ms/step - loss: 0.4459 - accuracy: 0.8386 - val_loss: 0.4717 - val_accuracy: 0.8285\n",
            "Epoch 10/100\n",
            "30/30 [==============================] - 0s 14ms/step - loss: 0.4306 - accuracy: 0.8443 - val_loss: 0.4405 - val_accuracy: 0.8445\n",
            "Epoch 11/100\n",
            "30/30 [==============================] - 1s 18ms/step - loss: 0.4161 - accuracy: 0.8518 - val_loss: 0.4583 - val_accuracy: 0.8317\n",
            "Epoch 12/100\n",
            "30/30 [==============================] - 1s 17ms/step - loss: 0.4102 - accuracy: 0.8518 - val_loss: 0.4310 - val_accuracy: 0.8437\n",
            "Epoch 13/100\n",
            "30/30 [==============================] - 1s 20ms/step - loss: 0.3950 - accuracy: 0.8590 - val_loss: 0.4179 - val_accuracy: 0.8507\n",
            "Epoch 14/100\n",
            "30/30 [==============================] - 1s 27ms/step - loss: 0.3873 - accuracy: 0.8609 - val_loss: 0.4110 - val_accuracy: 0.8529\n",
            "Epoch 15/100\n",
            "30/30 [==============================] - 1s 26ms/step - loss: 0.3766 - accuracy: 0.8656 - val_loss: 0.4074 - val_accuracy: 0.8522\n",
            "Epoch 16/100\n",
            "30/30 [==============================] - 1s 23ms/step - loss: 0.3709 - accuracy: 0.8679 - val_loss: 0.3914 - val_accuracy: 0.8587\n",
            "Epoch 17/100\n",
            "30/30 [==============================] - 1s 30ms/step - loss: 0.3644 - accuracy: 0.8695 - val_loss: 0.3954 - val_accuracy: 0.8584\n",
            "Epoch 18/100\n",
            "30/30 [==============================] - 1s 28ms/step - loss: 0.3589 - accuracy: 0.8726 - val_loss: 0.3846 - val_accuracy: 0.8614\n",
            "Epoch 19/100\n",
            "30/30 [==============================] - 1s 21ms/step - loss: 0.3527 - accuracy: 0.8746 - val_loss: 0.3761 - val_accuracy: 0.8641\n",
            "Epoch 20/100\n",
            "30/30 [==============================] - 1s 17ms/step - loss: 0.3507 - accuracy: 0.8748 - val_loss: 0.3797 - val_accuracy: 0.8622\n",
            "Epoch 21/100\n",
            "30/30 [==============================] - 0s 15ms/step - loss: 0.3423 - accuracy: 0.8776 - val_loss: 0.3743 - val_accuracy: 0.8657\n",
            "Epoch 22/100\n",
            "30/30 [==============================] - 0s 15ms/step - loss: 0.3371 - accuracy: 0.8807 - val_loss: 0.3818 - val_accuracy: 0.8584\n",
            "Epoch 23/100\n",
            "30/30 [==============================] - 0s 12ms/step - loss: 0.3357 - accuracy: 0.8802 - val_loss: 0.3715 - val_accuracy: 0.8659\n",
            "Epoch 24/100\n",
            "30/30 [==============================] - 0s 12ms/step - loss: 0.3315 - accuracy: 0.8821 - val_loss: 0.3688 - val_accuracy: 0.8664\n",
            "Epoch 25/100\n",
            "30/30 [==============================] - 0s 14ms/step - loss: 0.3279 - accuracy: 0.8824 - val_loss: 0.3603 - val_accuracy: 0.8701\n",
            "Epoch 26/100\n",
            "30/30 [==============================] - 1s 18ms/step - loss: 0.3236 - accuracy: 0.8843 - val_loss: 0.3617 - val_accuracy: 0.8685\n",
            "Epoch 27/100\n",
            "30/30 [==============================] - 0s 16ms/step - loss: 0.3181 - accuracy: 0.8860 - val_loss: 0.3619 - val_accuracy: 0.8690\n",
            "Epoch 28/100\n",
            "30/30 [==============================] - 0s 16ms/step - loss: 0.3157 - accuracy: 0.8871 - val_loss: 0.3477 - val_accuracy: 0.8761\n",
            "Epoch 29/100\n",
            "30/30 [==============================] - 1s 18ms/step - loss: 0.3104 - accuracy: 0.8893 - val_loss: 0.3467 - val_accuracy: 0.8753\n",
            "Epoch 30/100\n",
            "30/30 [==============================] - 0s 13ms/step - loss: 0.3102 - accuracy: 0.8883 - val_loss: 0.3505 - val_accuracy: 0.8734\n",
            "Epoch 31/100\n",
            "30/30 [==============================] - 1s 17ms/step - loss: 0.3096 - accuracy: 0.8892 - val_loss: 0.3525 - val_accuracy: 0.8706\n",
            "Epoch 32/100\n",
            "30/30 [==============================] - 1s 23ms/step - loss: 0.3053 - accuracy: 0.8907 - val_loss: 0.3443 - val_accuracy: 0.8762\n",
            "Epoch 33/100\n",
            "30/30 [==============================] - 1s 20ms/step - loss: 0.3076 - accuracy: 0.8887 - val_loss: 0.3392 - val_accuracy: 0.8772\n",
            "Epoch 34/100\n",
            "30/30 [==============================] - 1s 22ms/step - loss: 0.2988 - accuracy: 0.8930 - val_loss: 0.3343 - val_accuracy: 0.8792\n",
            "Epoch 35/100\n",
            "30/30 [==============================] - 1s 23ms/step - loss: 0.2965 - accuracy: 0.8935 - val_loss: 0.3357 - val_accuracy: 0.8772\n",
            "Epoch 36/100\n",
            "30/30 [==============================] - 1s 20ms/step - loss: 0.2941 - accuracy: 0.8942 - val_loss: 0.3355 - val_accuracy: 0.8779\n",
            "Epoch 37/100\n",
            "30/30 [==============================] - 1s 22ms/step - loss: 0.2916 - accuracy: 0.8951 - val_loss: 0.3331 - val_accuracy: 0.8810\n",
            "Epoch 38/100\n",
            "30/30 [==============================] - 1s 27ms/step - loss: 0.2925 - accuracy: 0.8946 - val_loss: 0.3330 - val_accuracy: 0.8791\n",
            "Epoch 39/100\n",
            "30/30 [==============================] - 1s 21ms/step - loss: 0.2898 - accuracy: 0.8960 - val_loss: 0.3297 - val_accuracy: 0.8823\n",
            "Epoch 40/100\n",
            "30/30 [==============================] - 1s 20ms/step - loss: 0.2865 - accuracy: 0.8959 - val_loss: 0.3330 - val_accuracy: 0.8806\n",
            "Epoch 41/100\n",
            "30/30 [==============================] - 1s 27ms/step - loss: 0.2843 - accuracy: 0.8966 - val_loss: 0.3288 - val_accuracy: 0.8807\n",
            "Epoch 42/100\n",
            "30/30 [==============================] - 1s 24ms/step - loss: 0.2854 - accuracy: 0.8970 - val_loss: 0.3256 - val_accuracy: 0.8823\n",
            "Epoch 43/100\n",
            "30/30 [==============================] - 1s 25ms/step - loss: 0.2828 - accuracy: 0.8975 - val_loss: 0.3240 - val_accuracy: 0.8814\n",
            "Epoch 44/100\n",
            "30/30 [==============================] - 1s 25ms/step - loss: 0.2770 - accuracy: 0.9004 - val_loss: 0.3375 - val_accuracy: 0.8766\n",
            "Epoch 45/100\n",
            "30/30 [==============================] - 0s 14ms/step - loss: 0.2781 - accuracy: 0.8988 - val_loss: 0.3263 - val_accuracy: 0.8809\n",
            "Epoch 46/100\n",
            "30/30 [==============================] - 0s 13ms/step - loss: 0.2747 - accuracy: 0.9007 - val_loss: 0.3377 - val_accuracy: 0.8773\n",
            "Epoch 47/100\n",
            "30/30 [==============================] - 0s 13ms/step - loss: 0.2780 - accuracy: 0.8992 - val_loss: 0.3325 - val_accuracy: 0.8805\n",
            "Epoch 48/100\n",
            "30/30 [==============================] - 0s 12ms/step - loss: 0.2744 - accuracy: 0.9014 - val_loss: 0.3331 - val_accuracy: 0.8797\n",
            "Epoch 49/100\n",
            "30/30 [==============================] - 0s 13ms/step - loss: 0.2709 - accuracy: 0.9010 - val_loss: 0.3187 - val_accuracy: 0.8861\n",
            "Epoch 50/100\n",
            "30/30 [==============================] - 0s 12ms/step - loss: 0.2674 - accuracy: 0.9031 - val_loss: 0.3221 - val_accuracy: 0.8831\n",
            "Epoch 51/100\n",
            "30/30 [==============================] - 0s 12ms/step - loss: 0.2654 - accuracy: 0.9026 - val_loss: 0.3218 - val_accuracy: 0.8815\n",
            "Epoch 52/100\n",
            "30/30 [==============================] - 0s 13ms/step - loss: 0.2673 - accuracy: 0.9032 - val_loss: 0.3122 - val_accuracy: 0.8890\n",
            "Epoch 53/100\n",
            "30/30 [==============================] - 0s 14ms/step - loss: 0.2656 - accuracy: 0.9038 - val_loss: 0.3234 - val_accuracy: 0.8828\n",
            "Epoch 54/100\n",
            "30/30 [==============================] - 0s 14ms/step - loss: 0.2615 - accuracy: 0.9049 - val_loss: 0.3167 - val_accuracy: 0.8868\n",
            "Epoch 55/100\n",
            "30/30 [==============================] - 1s 17ms/step - loss: 0.2622 - accuracy: 0.9048 - val_loss: 0.3190 - val_accuracy: 0.8855\n",
            "Epoch 56/100\n",
            "30/30 [==============================] - 1s 18ms/step - loss: 0.2662 - accuracy: 0.9030 - val_loss: 0.3194 - val_accuracy: 0.8851\n",
            "Epoch 57/100\n",
            "30/30 [==============================] - 1s 17ms/step - loss: 0.2602 - accuracy: 0.9057 - val_loss: 0.3240 - val_accuracy: 0.8826\n",
            "Epoch 58/100\n",
            "30/30 [==============================] - 0s 13ms/step - loss: 0.2625 - accuracy: 0.9034 - val_loss: 0.3137 - val_accuracy: 0.8851\n",
            "Epoch 59/100\n",
            "30/30 [==============================] - 0s 12ms/step - loss: 0.2559 - accuracy: 0.9068 - val_loss: 0.3090 - val_accuracy: 0.8899\n",
            "Epoch 60/100\n",
            "30/30 [==============================] - 0s 13ms/step - loss: 0.2519 - accuracy: 0.9086 - val_loss: 0.3118 - val_accuracy: 0.8873\n",
            "Epoch 61/100\n",
            "30/30 [==============================] - 0s 12ms/step - loss: 0.2540 - accuracy: 0.9078 - val_loss: 0.3137 - val_accuracy: 0.8868\n",
            "Epoch 62/100\n",
            "30/30 [==============================] - 0s 15ms/step - loss: 0.2538 - accuracy: 0.9075 - val_loss: 0.3179 - val_accuracy: 0.8847\n",
            "Epoch 63/100\n",
            "30/30 [==============================] - 1s 21ms/step - loss: 0.2502 - accuracy: 0.9092 - val_loss: 0.3082 - val_accuracy: 0.8892\n",
            "Epoch 64/100\n",
            "30/30 [==============================] - 1s 20ms/step - loss: 0.2486 - accuracy: 0.9096 - val_loss: 0.3156 - val_accuracy: 0.8868\n",
            "Epoch 65/100\n",
            "30/30 [==============================] - 1s 18ms/step - loss: 0.2478 - accuracy: 0.9096 - val_loss: 0.3034 - val_accuracy: 0.8915\n",
            "Epoch 66/100\n",
            "30/30 [==============================] - 1s 19ms/step - loss: 0.2435 - accuracy: 0.9113 - val_loss: 0.3120 - val_accuracy: 0.8877\n",
            "Epoch 67/100\n",
            "30/30 [==============================] - 1s 31ms/step - loss: 0.2454 - accuracy: 0.9105 - val_loss: 0.3092 - val_accuracy: 0.8876\n",
            "Epoch 68/100\n",
            "30/30 [==============================] - 1s 24ms/step - loss: 0.2430 - accuracy: 0.9112 - val_loss: 0.3128 - val_accuracy: 0.8877\n",
            "Epoch 69/100\n",
            "30/30 [==============================] - 1s 42ms/step - loss: 0.2423 - accuracy: 0.9120 - val_loss: 0.3114 - val_accuracy: 0.8906\n",
            "Epoch 70/100\n",
            "30/30 [==============================] - 1s 19ms/step - loss: 0.2401 - accuracy: 0.9125 - val_loss: 0.3012 - val_accuracy: 0.8940\n",
            "Epoch 71/100\n",
            "30/30 [==============================] - 1s 19ms/step - loss: 0.2388 - accuracy: 0.9129 - val_loss: 0.3021 - val_accuracy: 0.8903\n",
            "Epoch 72/100\n",
            "30/30 [==============================] - 0s 16ms/step - loss: 0.2362 - accuracy: 0.9139 - val_loss: 0.3006 - val_accuracy: 0.8915\n",
            "Epoch 73/100\n",
            "30/30 [==============================] - 0s 16ms/step - loss: 0.2365 - accuracy: 0.9136 - val_loss: 0.3146 - val_accuracy: 0.8864\n",
            "Epoch 74/100\n",
            "30/30 [==============================] - 0s 16ms/step - loss: 0.2399 - accuracy: 0.9119 - val_loss: 0.3075 - val_accuracy: 0.8875\n",
            "Epoch 75/100\n",
            "30/30 [==============================] - 0s 15ms/step - loss: 0.2378 - accuracy: 0.9129 - val_loss: 0.3129 - val_accuracy: 0.8882\n",
            "Epoch 76/100\n",
            "30/30 [==============================] - 0s 14ms/step - loss: 0.2372 - accuracy: 0.9130 - val_loss: 0.3002 - val_accuracy: 0.8939\n",
            "Epoch 77/100\n",
            "30/30 [==============================] - 0s 14ms/step - loss: 0.2319 - accuracy: 0.9147 - val_loss: 0.3069 - val_accuracy: 0.8891\n",
            "Epoch 78/100\n",
            "30/30 [==============================] - 1s 18ms/step - loss: 0.2332 - accuracy: 0.9138 - val_loss: 0.3205 - val_accuracy: 0.8861\n",
            "Epoch 79/100\n",
            "30/30 [==============================] - 0s 15ms/step - loss: 0.2319 - accuracy: 0.9154 - val_loss: 0.3017 - val_accuracy: 0.8934\n",
            "Epoch 80/100\n",
            "30/30 [==============================] - 0s 16ms/step - loss: 0.2272 - accuracy: 0.9174 - val_loss: 0.2970 - val_accuracy: 0.8947\n",
            "Epoch 81/100\n",
            "30/30 [==============================] - 0s 13ms/step - loss: 0.2247 - accuracy: 0.9183 - val_loss: 0.3038 - val_accuracy: 0.8931\n",
            "Epoch 82/100\n",
            "30/30 [==============================] - 0s 14ms/step - loss: 0.2285 - accuracy: 0.9163 - val_loss: 0.3037 - val_accuracy: 0.8927\n",
            "Epoch 83/100\n",
            "30/30 [==============================] - 0s 16ms/step - loss: 0.2264 - accuracy: 0.9172 - val_loss: 0.3017 - val_accuracy: 0.8916\n",
            "Epoch 84/100\n",
            "30/30 [==============================] - 0s 14ms/step - loss: 0.2231 - accuracy: 0.9182 - val_loss: 0.2955 - val_accuracy: 0.8947\n",
            "Epoch 85/100\n",
            "30/30 [==============================] - 0s 14ms/step - loss: 0.2219 - accuracy: 0.9187 - val_loss: 0.2979 - val_accuracy: 0.8925\n",
            "Epoch 86/100\n",
            "30/30 [==============================] - 0s 12ms/step - loss: 0.2222 - accuracy: 0.9186 - val_loss: 0.3059 - val_accuracy: 0.8884\n",
            "Epoch 87/100\n",
            "30/30 [==============================] - 0s 13ms/step - loss: 0.2202 - accuracy: 0.9192 - val_loss: 0.2977 - val_accuracy: 0.8961\n",
            "Epoch 88/100\n",
            "30/30 [==============================] - 0s 13ms/step - loss: 0.2191 - accuracy: 0.9195 - val_loss: 0.3019 - val_accuracy: 0.8923\n",
            "Epoch 89/100\n",
            "30/30 [==============================] - 0s 12ms/step - loss: 0.2212 - accuracy: 0.9190 - val_loss: 0.2997 - val_accuracy: 0.8944\n",
            "Epoch 90/100\n",
            "30/30 [==============================] - 0s 13ms/step - loss: 0.2211 - accuracy: 0.9189 - val_loss: 0.3153 - val_accuracy: 0.8885\n",
            "Epoch 91/100\n",
            "30/30 [==============================] - 0s 12ms/step - loss: 0.2205 - accuracy: 0.9193 - val_loss: 0.3089 - val_accuracy: 0.8922\n",
            "Epoch 92/100\n",
            "30/30 [==============================] - 0s 16ms/step - loss: 0.2177 - accuracy: 0.9202 - val_loss: 0.2948 - val_accuracy: 0.8963\n",
            "Epoch 93/100\n",
            "30/30 [==============================] - 0s 16ms/step - loss: 0.2151 - accuracy: 0.9207 - val_loss: 0.2972 - val_accuracy: 0.8949\n",
            "Epoch 94/100\n",
            "30/30 [==============================] - 0s 16ms/step - loss: 0.2141 - accuracy: 0.9212 - val_loss: 0.2947 - val_accuracy: 0.8955\n",
            "Epoch 95/100\n",
            "30/30 [==============================] - 0s 15ms/step - loss: 0.2113 - accuracy: 0.9229 - val_loss: 0.2953 - val_accuracy: 0.8965\n",
            "Epoch 96/100\n",
            "30/30 [==============================] - 1s 20ms/step - loss: 0.2138 - accuracy: 0.9211 - val_loss: 0.3000 - val_accuracy: 0.8944\n",
            "Epoch 97/100\n",
            "30/30 [==============================] - 1s 18ms/step - loss: 0.2127 - accuracy: 0.9211 - val_loss: 0.2999 - val_accuracy: 0.8953\n",
            "Epoch 98/100\n",
            "30/30 [==============================] - 0s 15ms/step - loss: 0.2144 - accuracy: 0.9212 - val_loss: 0.3042 - val_accuracy: 0.8924\n",
            "Epoch 99/100\n",
            "30/30 [==============================] - 0s 12ms/step - loss: 0.2110 - accuracy: 0.9215 - val_loss: 0.2974 - val_accuracy: 0.8957\n",
            "Epoch 100/100\n",
            "30/30 [==============================] - 0s 12ms/step - loss: 0.2095 - accuracy: 0.9222 - val_loss: 0.3110 - val_accuracy: 0.8891\n"
          ]
        },
        {
          "output_type": "execute_result",
          "data": {
            "text/plain": [
              "<keras.callbacks.History at 0x7fe7582393f0>"
            ]
          },
          "metadata": {},
          "execution_count": 7
        }
      ],
      "source": [
        "# TODO: Compile and fit your model\n",
        "import os\n",
        "\n",
        "# os.environ['KMP_DUPLICATE_LIB_OK']='True' #https://stackoverflow.com/questions/53014306/error-15-initializing-libiomp5-dylib-but-found-libiomp5-dylib-already-initial\n",
        "\n",
        "\n",
        "from tensorflow.keras.callbacks import EarlyStopping\n",
        "from tensorflow.keras.callbacks import TensorBoard\n",
        "\n",
        "model = lenet5()\n",
        "\n",
        "model.compile(optimizer='adam', loss='categorical_crossentropy', metrics=['accuracy'])\n",
        "\n",
        "# Define now our callbacks\n",
        "# callbacks = [EarlyStopping(monitor='val_loss', patience=10), TensorBoard(log_dir='./keras-logs', histogram_freq=0, write_graph=True, write_images=True)]\n",
        "callbacks = [EarlyStopping(monitor='val_loss', patience=10)]\n",
        "\n",
        "# Finally fit the model\n",
        "model.fit(x=X_train_norm, y=y_train_cat, validation_data=(X_test_norm, y_test_cat), epochs=100, batch_size=2048, callbacks=callbacks)"
      ]
    },
    {
      "cell_type": "markdown",
      "metadata": {
        "id": "Rf-SqjjOyO8q"
      },
      "source": [
        "Have a look at the tensorboard and see if it gives a deeper understanding of your model."
      ]
    },
    {
      "cell_type": "markdown",
      "metadata": {
        "id": "k2FTj7TSyO8q"
      },
      "source": [
        "Compute then the accuracy of your model. Is it better than a regular MLP used before?"
      ]
    },
    {
      "cell_type": "code",
      "execution_count": 9,
      "metadata": {
        "colab": {
          "base_uri": "https://localhost:8080/"
        },
        "id": "rPjJoMQZyO8q",
        "outputId": "e680b2f7-b79f-4eb2-aee1-9b559e817fc5"
      },
      "outputs": [
        {
          "output_type": "stream",
          "name": "stdout",
          "text": [
            "59/59 [==============================] - 0s 3ms/step\n",
            "10/10 [==============================] - 0s 15ms/step\n",
            "accuracy on train with CNN: 0.9187333333333333\n",
            "accuracy on test with CNN: 0.8891\n"
          ]
        }
      ],
      "source": [
        "# TODO: Compute the accuracy of your model\n",
        "from sklearn.metrics import accuracy_score\n",
        "\n",
        "batch_size = 1024\n",
        "y_pred_train = to_categorical(model.predict(X_train_norm, batch_size=batch_size).argmax(axis=1), num_classes=10)\n",
        "y_pred_test = to_categorical(model.predict(X_test_norm, batch_size=batch_size).argmax(axis=1), num_classes=10)\n",
        "\n",
        "print('accuracy on train with CNN:', accuracy_score(y_pred_train, y_train_cat))\n",
        "print('accuracy on test with CNN:', accuracy_score(y_pred_test, y_test_cat))"
      ]
    },
    {
      "cell_type": "markdown",
      "metadata": {
        "id": "1vulsgHiyO8q"
      },
      "source": [
        "We will now add image augmentation to improve our results, especially we will try to reduce overfitting this way.\n",
        "\n",
        "To do so, you can use `ImageDataGenerator` from Keras that makes all the work for you (including rescaling), with the following parameter: \n",
        "* `horizontal_flip=True`\n",
        "\n",
        "For more info about how the `ImageDataGenerator` works, you can check out [this article](https://www.pyimagesearch.com/2019/07/08/keras-imagedatagenerator-and-data-augmentation/).\n",
        "\n",
        "Begin by creating an object `ImageDataGenerator` with this parameter."
      ]
    },
    {
      "cell_type": "code",
      "execution_count": 10,
      "metadata": {
        "ExecuteTime": {
          "end_time": "2020-08-19T11:58:37.442182Z",
          "start_time": "2020-08-19T11:58:37.438397Z"
        },
        "id": "pas-fMSIyO8q"
      },
      "outputs": [],
      "source": [
        "# TODO: Instantiate an ImageDataGenerator object\n",
        "from tensorflow.keras.preprocessing.image import ImageDataGenerator\n",
        "\n",
        "datagen = ImageDataGenerator(horizontal_flip=True)"
      ]
    },
    {
      "cell_type": "markdown",
      "metadata": {
        "id": "k7nCnu9syO8r"
      },
      "source": [
        "Finally, you can train your model using this generator, with the method `fit_generator` of your model and the method `flow` of your `ImageDataGenerator`."
      ]
    },
    {
      "cell_type": "code",
      "execution_count": 11,
      "metadata": {
        "colab": {
          "base_uri": "https://localhost:8080/"
        },
        "id": "Zt6wXa3IyO8r",
        "outputId": "ec7ca77f-19e7-4826-edf3-27fe5bc929b5",
        "scrolled": true
      },
      "outputs": [
        {
          "output_type": "stream",
          "name": "stdout",
          "text": [
            "Epoch 1/100\n"
          ]
        },
        {
          "output_type": "stream",
          "name": "stderr",
          "text": [
            "<ipython-input-11-5da9cbf7d7d8>:3: UserWarning: `Model.fit_generator` is deprecated and will be removed in a future version. Please use `Model.fit`, which supports generators.\n",
            "  model.fit_generator(datagen.flow(X_train_norm, y_train_cat, batch_size=batch_size),\n"
          ]
        },
        {
          "output_type": "stream",
          "name": "stdout",
          "text": [
            "58/58 [==============================] - 4s 56ms/step - loss: 0.4768 - accuracy: 0.8516 - val_loss: 0.3233 - val_accuracy: 0.8834\n",
            "Epoch 2/100\n",
            "58/58 [==============================] - 4s 62ms/step - loss: 0.2957 - accuracy: 0.8928 - val_loss: 0.2994 - val_accuracy: 0.8946\n",
            "Epoch 3/100\n",
            "58/58 [==============================] - 3s 46ms/step - loss: 0.2779 - accuracy: 0.8997 - val_loss: 0.2972 - val_accuracy: 0.8931\n",
            "Epoch 4/100\n",
            "58/58 [==============================] - 3s 54ms/step - loss: 0.2706 - accuracy: 0.9016 - val_loss: 0.2922 - val_accuracy: 0.8966\n",
            "Epoch 5/100\n",
            "58/58 [==============================] - 3s 56ms/step - loss: 0.2638 - accuracy: 0.9035 - val_loss: 0.2923 - val_accuracy: 0.8970\n",
            "Epoch 6/100\n",
            "58/58 [==============================] - 4s 74ms/step - loss: 0.2585 - accuracy: 0.9062 - val_loss: 0.2900 - val_accuracy: 0.8972\n",
            "Epoch 7/100\n",
            "58/58 [==============================] - 3s 45ms/step - loss: 0.2524 - accuracy: 0.9086 - val_loss: 0.2952 - val_accuracy: 0.8972\n",
            "Epoch 8/100\n",
            "58/58 [==============================] - 3s 56ms/step - loss: 0.2547 - accuracy: 0.9075 - val_loss: 0.2896 - val_accuracy: 0.8987\n",
            "Epoch 9/100\n",
            "58/58 [==============================] - 3s 45ms/step - loss: 0.2498 - accuracy: 0.9100 - val_loss: 0.2959 - val_accuracy: 0.8958\n",
            "Epoch 10/100\n",
            "58/58 [==============================] - 4s 64ms/step - loss: 0.2446 - accuracy: 0.9110 - val_loss: 0.2866 - val_accuracy: 0.8975\n",
            "Epoch 11/100\n",
            "58/58 [==============================] - 3s 56ms/step - loss: 0.2444 - accuracy: 0.9109 - val_loss: 0.3045 - val_accuracy: 0.8898\n",
            "Epoch 12/100\n",
            "58/58 [==============================] - 5s 86ms/step - loss: 0.2446 - accuracy: 0.9100 - val_loss: 0.2929 - val_accuracy: 0.8971\n",
            "Epoch 13/100\n",
            "58/58 [==============================] - 6s 107ms/step - loss: 0.2436 - accuracy: 0.9106 - val_loss: 0.2816 - val_accuracy: 0.8999\n",
            "Epoch 14/100\n",
            "58/58 [==============================] - 3s 44ms/step - loss: 0.2378 - accuracy: 0.9128 - val_loss: 0.2830 - val_accuracy: 0.9001\n",
            "Epoch 15/100\n",
            "58/58 [==============================] - 3s 54ms/step - loss: 0.2338 - accuracy: 0.9144 - val_loss: 0.2822 - val_accuracy: 0.8981\n",
            "Epoch 16/100\n",
            "58/58 [==============================] - 3s 56ms/step - loss: 0.2304 - accuracy: 0.9158 - val_loss: 0.2815 - val_accuracy: 0.8990\n",
            "Epoch 17/100\n",
            "58/58 [==============================] - 3s 52ms/step - loss: 0.2295 - accuracy: 0.9153 - val_loss: 0.2783 - val_accuracy: 0.9006\n",
            "Epoch 18/100\n",
            "58/58 [==============================] - 3s 55ms/step - loss: 0.2301 - accuracy: 0.9153 - val_loss: 0.2866 - val_accuracy: 0.8967\n",
            "Epoch 19/100\n",
            "58/58 [==============================] - 3s 49ms/step - loss: 0.2286 - accuracy: 0.9159 - val_loss: 0.2818 - val_accuracy: 0.9005\n",
            "Epoch 20/100\n",
            "58/58 [==============================] - 3s 53ms/step - loss: 0.2291 - accuracy: 0.9159 - val_loss: 0.2797 - val_accuracy: 0.9006\n",
            "Epoch 21/100\n",
            "58/58 [==============================] - 3s 55ms/step - loss: 0.2267 - accuracy: 0.9163 - val_loss: 0.2792 - val_accuracy: 0.8992\n",
            "Epoch 22/100\n",
            "58/58 [==============================] - 3s 45ms/step - loss: 0.2240 - accuracy: 0.9178 - val_loss: 0.2810 - val_accuracy: 0.9000\n",
            "Epoch 23/100\n",
            "58/58 [==============================] - 3s 45ms/step - loss: 0.2222 - accuracy: 0.9172 - val_loss: 0.2902 - val_accuracy: 0.8979\n",
            "Epoch 24/100\n",
            "58/58 [==============================] - 3s 54ms/step - loss: 0.2213 - accuracy: 0.9183 - val_loss: 0.2904 - val_accuracy: 0.8975\n",
            "Epoch 25/100\n",
            "58/58 [==============================] - 3s 54ms/step - loss: 0.2185 - accuracy: 0.9190 - val_loss: 0.2827 - val_accuracy: 0.8980\n",
            "Epoch 26/100\n",
            "58/58 [==============================] - 3s 45ms/step - loss: 0.2178 - accuracy: 0.9191 - val_loss: 0.2807 - val_accuracy: 0.8993\n",
            "Epoch 27/100\n",
            "58/58 [==============================] - 3s 53ms/step - loss: 0.2165 - accuracy: 0.9194 - val_loss: 0.2810 - val_accuracy: 0.8990\n"
          ]
        },
        {
          "output_type": "execute_result",
          "data": {
            "text/plain": [
              "<keras.callbacks.History at 0x7fe6ecf8d990>"
            ]
          },
          "metadata": {},
          "execution_count": 11
        }
      ],
      "source": [
        "# TODO: train your model\n",
        "batch_size = 1024\n",
        "model.fit_generator(datagen.flow(X_train_norm, y_train_cat, batch_size=batch_size),\n",
        "                    validation_data=(X_test_norm, y_test_cat), callbacks=callbacks,\n",
        "                    steps_per_epoch=len(X_train_norm) / batch_size, epochs=100)"
      ]
    },
    {
      "cell_type": "markdown",
      "metadata": {
        "id": "NuzFke8pyO8r"
      },
      "source": [
        "Recompute the accuracy of your model, does it improve your performances with data augmentation?"
      ]
    },
    {
      "cell_type": "code",
      "execution_count": 12,
      "metadata": {
        "colab": {
          "base_uri": "https://localhost:8080/"
        },
        "id": "jsTm86tuyO8r",
        "outputId": "53c7986e-9b30-44da-ace4-b84d47610ffd"
      },
      "outputs": [
        {
          "output_type": "stream",
          "name": "stdout",
          "text": [
            "59/59 [==============================] - 0s 5ms/step\n",
            "10/10 [==============================] - 0s 4ms/step\n",
            "accuracy on train with CNN: 0.9263333333333333\n",
            "accuracy on test with CNN: 0.899\n"
          ]
        }
      ],
      "source": [
        "# TODO: Compute the accuracy of your model\n",
        "from sklearn.metrics import accuracy_score\n",
        "\n",
        "batch_size=1024\n",
        "y_pred_train = to_categorical(model.predict(X_train_norm, batch_size=batch_size).argmax(axis=1), num_classes=10)\n",
        "y_pred_test = to_categorical(model.predict(X_test_norm, batch_size=batch_size).argmax(axis=1), num_classes=10)\n",
        "\n",
        "print('accuracy on train with CNN:', accuracy_score(y_pred_train, y_train_cat))\n",
        "print('accuracy on test with CNN:', accuracy_score(y_pred_test, y_test_cat))"
      ]
    },
    {
      "cell_type": "markdown",
      "metadata": {
        "id": "jOzkdGf7yO8s"
      },
      "source": [
        "You can now try to improve even more your results. For example, add more parameters to your `ImageDataGenerator`, play with some hyperparameters, and so on..."
      ]
    }
  ],
  "metadata": {
    "accelerator": "GPU",
    "colab": {
      "provenance": []
    },
    "kernelspec": {
      "display_name": "Python 3",
      "language": "python",
      "name": "python3"
    },
    "language_info": {
      "codemirror_mode": {
        "name": "ipython",
        "version": 3
      },
      "file_extension": ".py",
      "mimetype": "text/x-python",
      "name": "python",
      "nbconvert_exporter": "python",
      "pygments_lexer": "ipython3",
      "version": "3.7.4"
    },
    "toc": {
      "base_numbering": 1,
      "nav_menu": {},
      "number_sections": true,
      "sideBar": true,
      "skip_h1_title": false,
      "title_cell": "Table of Contents",
      "title_sidebar": "Contents",
      "toc_cell": false,
      "toc_position": {},
      "toc_section_display": true,
      "toc_window_display": false
    },
    "varInspector": {
      "cols": {
        "lenName": 16,
        "lenType": 16,
        "lenVar": 40
      },
      "kernels_config": {
        "python": {
          "delete_cmd_postfix": "",
          "delete_cmd_prefix": "del ",
          "library": "var_list.py",
          "varRefreshCmd": "print(var_dic_list())"
        },
        "r": {
          "delete_cmd_postfix": ") ",
          "delete_cmd_prefix": "rm(",
          "library": "var_list.r",
          "varRefreshCmd": "cat(var_dic_list()) "
        }
      },
      "types_to_exclude": [
        "module",
        "function",
        "builtin_function_or_method",
        "instance",
        "_Feature"
      ],
      "window_display": false
    }
  },
  "nbformat": 4,
  "nbformat_minor": 0
}